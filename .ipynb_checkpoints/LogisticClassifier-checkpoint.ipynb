{
 "cells": [
  {
   "cell_type": "markdown",
   "metadata": {},
   "source": [
    "# LOGISTIC CLASSIFIER FROM SCRATCH\n",
    "### Log loss as loss function and Gradient descent as optimizer"
   ]
  },
  {
   "cell_type": "code",
   "execution_count": 153,
   "metadata": {},
   "outputs": [],
   "source": [
    "import numpy as np\n",
    "import math\n",
    "import matplotlib.pyplot as plt\n",
    "import sklearn.datasets as datasets\n",
    "from sklearn.linear_model import LogisticRegression\n",
    "from sklearn.model_selection import train_test_split"
   ]
  },
  {
   "cell_type": "code",
   "execution_count": 154,
   "metadata": {},
   "outputs": [],
   "source": [
    "iris = datasets.load_iris()\n",
    "x = iris.data[:, :2]\n",
    "y = (iris.target != 0) * 1"
   ]
  },
  {
   "cell_type": "code",
   "execution_count": 155,
   "metadata": {},
   "outputs": [],
   "source": [
    "# shuffling data\n",
    "\n",
    "arr = np.concatenate((x,y.reshape(150, 1)), axis=1)\n",
    "np.random.shuffle(arr)\n",
    "x = arr[:, :-1]\n",
    "y = arr[:, -1]"
   ]
  },
  {
   "cell_type": "code",
   "execution_count": 156,
   "metadata": {},
   "outputs": [
    {
     "data": {
      "image/png": "[encoded data removed]",
      "text/plain": [
       "<Figure size 720x432 with 1 Axes>"
      ]
     },
     "metadata": {
      "needs_background": "light"
     },
     "output_type": "display_data"
    }
   ],
   "source": [
    "plt.figure(figsize=(10,6))\n",
    "plt.scatter(x[y==0][:,0], x[y==0][:,1], c='r', label='0')\n",
    "plt.scatter(x[y==1][:,0], x[y==1][:,1], c='b', label='1')\n",
    "plt.legend()\n",
    "plt.show()"
   ]
  },
  {
   "cell_type": "code",
   "execution_count": 157,
   "metadata": {},
   "outputs": [],
   "source": [
    "def sigmoid(z):\n",
    "    return 1 / (1 + np.exp(-z))"
   ]
  },
  {
   "cell_type": "code",
   "execution_count": 158,
   "metadata": {},
   "outputs": [],
   "source": [
    "# Log_loss\n",
    "\n",
    "def calc_loss(y_pred, y_true):\n",
    "    soma = np.sum((y_true * np.log(y_pred) + (1-y_true) * \n",
    "                   np.log(1 - y_pred)))\n",
    "    return -soma/y_pred.size"
   ]
  },
  {
   "cell_type": "code",
   "execution_count": 159,
   "metadata": {},
   "outputs": [],
   "source": [
    "# Gradient descent\n",
    "\n",
    "def gradient(X, y_pred, y_true):\n",
    "    return np.dot(X.T, (y_pred-y_true))/y_pred.size"
   ]
  },
  {
   "cell_type": "code",
   "execution_count": 160,
   "metadata": {},
   "outputs": [],
   "source": [
    "def predict(X,w):\n",
    "    return np.dot(X,w)"
   ]
  },
  {
   "cell_type": "code",
   "execution_count": 161,
   "metadata": {},
   "outputs": [],
   "source": [
    "def calc_acc(Xu, y, weights):\n",
    "    return ((sigmoid(predict(Xu, weights)).round() == y).mean() * 100).round(2)\n",
    "    "
   ]
  },
  {
   "cell_type": "code",
   "execution_count": 162,
   "metadata": {},
   "outputs": [],
   "source": [
    "def fit(X,y, num_iter, lr, loss_min, verbose=50):\n",
    "    err = []\n",
    "    curr_epoch = 0\n",
    "    Xu = np.concatenate((np.ones((X.shape[0],1)),X), axis=1)\n",
    "    weights = np.zeros(Xu.shape[1])\n",
    "    \n",
    "    while curr_epoch <= num_iter:\n",
    "        z = predict(Xu,weights)\n",
    "        h = sigmoid(z)\n",
    "        \n",
    "        loss = calc_loss(h, y)\n",
    "\n",
    "        grad = gradient(Xu, h, y)\n",
    "\n",
    "        weights -= lr*grad\n",
    "        \n",
    "        if curr_epoch%verbose == 0:\n",
    "            acc = calc_acc(Xu, y, weights)       \n",
    "            print(f'Epoch: {curr_epoch} - Loss: {loss} - Accuracy: {acc}\\n')\n",
    "            \n",
    "        \n",
    "        err.append(loss)\n",
    "        if loss <= loss_min:\n",
    "            break\n",
    "        curr_epoch = curr_epoch + 1\n",
    "    return err, weights"
   ]
  },
  {
   "cell_type": "code",
   "execution_count": 163,
   "metadata": {},
   "outputs": [
    {
     "name": "stdout",
     "output_type": "stream",
     "text": [
      "Epoch: 0 - Loss: 0.6931471805599454 - Accuracy: 66.67\n",
      "\n",
      "Epoch: 300 - Loss: 0.17109247037391312 - Accuracy: 99.33\n",
      "\n",
      "Epoch: 600 - Loss: 0.11299980353274165 - Accuracy: 99.33\n",
      "\n",
      "Epoch: 900 - Loss: 0.08975272571649509 - Accuracy: 99.33\n",
      "\n",
      "Epoch: 1200 - Loss: 0.0769628982187111 - Accuracy: 99.33\n",
      "\n",
      "Epoch: 1500 - Loss: 0.06876614636727149 - Accuracy: 99.33\n",
      "\n",
      "Epoch: 1800 - Loss: 0.06301679125825033 - Accuracy: 99.33\n",
      "\n",
      "Epoch: 2100 - Loss: 0.05873545144037147 - Accuracy: 99.33\n",
      "\n",
      "Epoch: 2400 - Loss: 0.055408370805998385 - Accuracy: 99.33\n",
      "\n"
     ]
    }
   ],
   "source": [
    "err, weights = fit(x, y, 2500, 0.1, 0, verbose=300)"
   ]
  },
  {
   "cell_type": "code",
   "execution_count": 164,
   "metadata": {},
   "outputs": [
    {
     "data": {
      "text/plain": [
       "<matplotlib.legend.Legend at 0x1c179969f08>"
      ]
     },
     "execution_count": 164,
     "metadata": {},
     "output_type": "execute_result"
    },
    {
     "data": {
      "image/png": "[encoded data removed]",
      "text/plain": [
       "<Figure size 432x288 with 1 Axes>"
      ]
     },
     "metadata": {
      "needs_background": "light"
     },
     "output_type": "display_data"
    }
   ],
   "source": [
    "plt.plot(err, label='Loss')\n",
    "plt.legend(loc='best')"
   ]
  }
 ],
 "metadata": {
  "kernelspec": {
   "display_name": "Python 3",
   "language": "python",
   "name": "python3"
  },
  "language_info": {
   "codemirror_mode": {
    "name": "ipython",
    "version": 3
   },
   "file_extension": ".py",
   "mimetype": "text/x-python",
   "name": "python",
   "nbconvert_exporter": "python",
   "pygments_lexer": "ipython3",
   "version": "3.7.7"
  },
  "toc": {
   "base_numbering": 1,
   "nav_menu": {},
   "number_sections": true,
   "sideBar": true,
   "skip_h1_title": false,
   "title_cell": "Table of Contents",
   "title_sidebar": "Contents",
   "toc_cell": false,
   "toc_position": {},
   "toc_section_display": true,
   "toc_window_display": false
  },
  "varInspector": {
   "cols": {
    "lenName": 16,
    "lenType": 16,
    "lenVar": 40
   },
   "kernels_config": {
    "python": {
     "delete_cmd_postfix": "",
     "delete_cmd_prefix": "del ",
     "library": "var_list.py",
     "varRefreshCmd": "print(var_dic_list())"
    },
    "r": {
     "delete_cmd_postfix": ") ",
     "delete_cmd_prefix": "rm(",
     "library": "var_list.r",
     "varRefreshCmd": "cat(var_dic_list()) "
    }
   },
   "types_to_exclude": [
    "module",
    "function",
    "builtin_function_or_method",
    "instance",
    "_Feature"
   ],
   "window_display": false
  }
 },
 "nbformat": 4,
 "nbformat_minor": 4
}
