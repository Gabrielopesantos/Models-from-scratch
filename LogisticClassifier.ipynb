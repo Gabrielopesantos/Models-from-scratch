{
 "cells": [
  {
   "cell_type": "code",
   "execution_count": 3,
   "metadata": {},
   "outputs": [],
   "source": [
    "import numpy as np\n",
    "import math\n",
    "import matplotlib.pyplot as plt\n",
    "import sklearn.datasets as datasets"
   ]
  },
  {
   "cell_type": "code",
   "execution_count": 4,
   "metadata": {
    "jupyter": {
     "source_hidden": true
    }
   },
   "outputs": [],
   "source": [
    "def read_asc_data(filename):    \n",
    "    f= open(filename,'r') \n",
    "    tmp_str=f.readline()\n",
    "    tmp_arr=tmp_str[:-1].split(' ')\n",
    "    N=int(tmp_arr[0]);n_row=int(tmp_arr[1]);n_col=int(tmp_arr[2])\n",
    "    print(\"N=%d, row=%d, col=%d\" %(N,n_row,n_col))\n",
    "    data=np.zeros([N,n_row*n_col+1])\n",
    "    for n in range(N):\n",
    "        tmp_str=f.readline()\n",
    "        tmp_arr=tmp_str[:-1].split(' ')       \n",
    "        for i in range(n_row*n_col+1):\n",
    "            data[n][i]=int(tmp_arr[i])\n",
    "    f.close() \n",
    "    return N,n_row,n_col,data"
   ]
  },
  {
   "cell_type": "code",
   "execution_count": 5,
   "metadata": {},
   "outputs": [],
   "source": [
    "iris = datasets.load_iris()\n",
    "x = iris.data[:, :2]\n",
    "y = (iris.target != 0) * 1"
   ]
  },
  {
   "cell_type": "code",
   "execution_count": 6,
   "metadata": {},
   "outputs": [
    {
     "data": {
      "image/png": "[encoded data removed]",
      "text/plain": [
       "<Figure size 720x432 with 1 Axes>"
      ]
     },
     "metadata": {
      "needs_background": "light"
     },
     "output_type": "display_data"
    }
   ],
   "source": [
    "plt.figure(figsize=(10,6))\n",
    "plt.scatter(x[y==0][:,0], x[y==0][:,1], c='r', label='0')\n",
    "plt.scatter(x[y==1][:,0], x[y==1][:,1], c='b', label='1')\n",
    "plt.legend()\n",
    "plt.show()"
   ]
  },
  {
   "cell_type": "code",
   "execution_count": 3,
   "metadata": {},
   "outputs": [
    {
     "name": "stdout",
     "output_type": "stream",
     "text": [
      "N=4, row=2, col=1\n"
     ]
    }
   ],
   "source": [
    "N,n_row,n_col,data=read_asc_data('AND.txt')\n",
    "X = data[:, :-1]\n",
    "y = data[:, -1]"
   ]
  },
  {
   "cell_type": "code",
   "execution_count": 22,
   "metadata": {},
   "outputs": [],
   "source": [
    "def sigmoid(z):\n",
    "    return 1 / (1 + np.exp(-z))"
   ]
  },
  {
   "cell_type": "code",
   "execution_count": 23,
   "metadata": {},
   "outputs": [],
   "source": [
    "def calc_loss(y_pred, y_true):\n",
    "    soma = np.sum((y_true * np.log(y_pred) + (1-y_true) * \n",
    "                   np.log(1 - y_pred)))\n",
    "    return -soma/y_pred.size"
   ]
  },
  {
   "cell_type": "code",
   "execution_count": 24,
   "metadata": {},
   "outputs": [],
   "source": [
    "def gradient(X, y_pred, y_true):\n",
    "    return np.dot(X.T, (y_pred-y_true))/y_pred.size"
   ]
  },
  {
   "cell_type": "code",
   "execution_count": 25,
   "metadata": {},
   "outputs": [],
   "source": [
    "def predict(X,w):\n",
    "#     print(X.shape)\n",
    "#     print(w.shape)\n",
    "    return np.dot(X,w)"
   ]
  },
  {
   "cell_type": "code",
   "execution_count": 115,
   "metadata": {},
   "outputs": [],
   "source": [
    "def fit(X,y, num_iter, lr, loss_min, verbose=50):\n",
    "    err = []\n",
    "    curr_epoch = 0\n",
    "    Xu = np.concatenate((np.ones((X.shape[0],1)),X), axis=1)\n",
    "    weights = np.zeros(Xu.shape[1])\n",
    "    \n",
    "    while curr_epoch <= num_iter:\n",
    "        # Previsão das labels\n",
    "        z = predict(Xu,weights)\n",
    "        h = sigmoid(z)\n",
    "        \n",
    "        #print(h)\n",
    "        # Cálculo da loss\n",
    "        loss = calc_loss(h, y)\n",
    "        \n",
    "        # Cálculo do gradient\n",
    "        grad = gradient(Xu, h, y)\n",
    "       # print(grad)\n",
    "        # Atualização dos pesos\n",
    "        weights -= lr*grad\n",
    "        \n",
    "        if curr_epoch%verbose == 0:\n",
    "            print(f'Epoch: {curr_epoch} - Loss: {loss}')\n",
    "#             print(f'Predictions before Sigmoid: {z}')\n",
    "#             print(f'Predictions: {h}')\n",
    "#             print(f'Gradient: {grad}')\n",
    "#             print(f'Weights: {weights}\\n')\n",
    "            \n",
    "        \n",
    "        err.append(loss)\n",
    "        if loss <= loss_min:\n",
    "            break\n",
    "        curr_epoch = curr_epoch + 1\n",
    "    return err, weights"
   ]
  },
  {
   "cell_type": "code",
   "execution_count": 113,
   "metadata": {},
   "outputs": [
    {
     "name": "stdout",
     "output_type": "stream",
     "text": [
      "Epoch: 0 - Loss: 0.6931471805599454\n"
     ]
    },
    {
     "ename": "KeyboardInterrupt",
     "evalue": "",
     "output_type": "error",
     "traceback": [
      "\u001b[1;31m---------------------------------------------------------------------------\u001b[0m",
      "\u001b[1;31mKeyboardInterrupt\u001b[0m                         Traceback (most recent call last)",
      "\u001b[1;32m<ipython-input-113-0faa9e0704dc>\u001b[0m in \u001b[0;36m<module>\u001b[1;34m\u001b[0m\n\u001b[1;32m----> 1\u001b[1;33m \u001b[0merr\u001b[0m\u001b[1;33m,\u001b[0m \u001b[0mweights\u001b[0m \u001b[1;33m=\u001b[0m \u001b[0mfit\u001b[0m\u001b[1;33m(\u001b[0m\u001b[0mx\u001b[0m\u001b[1;33m,\u001b[0m \u001b[0my\u001b[0m\u001b[1;33m,\u001b[0m \u001b[1;36m300000\u001b[0m\u001b[1;33m,\u001b[0m \u001b[1;36m0.1\u001b[0m\u001b[1;33m,\u001b[0m \u001b[1;36m0\u001b[0m\u001b[1;33m)\u001b[0m\u001b[1;33m\u001b[0m\u001b[1;33m\u001b[0m\u001b[0m\n\u001b[0m",
      "\u001b[1;32m<ipython-input-51-cfa99976be24>\u001b[0m in \u001b[0;36mfit\u001b[1;34m(X, y, num_iter, lr, loss_min)\u001b[0m\n\u001b[0;32m     15\u001b[0m \u001b[1;33m\u001b[0m\u001b[0m\n\u001b[0;32m     16\u001b[0m         \u001b[1;31m# Cálculo do gradient\u001b[0m\u001b[1;33m\u001b[0m\u001b[1;33m\u001b[0m\u001b[1;33m\u001b[0m\u001b[0m\n\u001b[1;32m---> 17\u001b[1;33m         \u001b[0mgrad\u001b[0m \u001b[1;33m=\u001b[0m \u001b[0mgradient\u001b[0m\u001b[1;33m(\u001b[0m\u001b[0mXu\u001b[0m\u001b[1;33m,\u001b[0m \u001b[0mh\u001b[0m\u001b[1;33m,\u001b[0m \u001b[0my\u001b[0m\u001b[1;33m)\u001b[0m\u001b[1;33m\u001b[0m\u001b[1;33m\u001b[0m\u001b[0m\n\u001b[0m\u001b[0;32m     18\u001b[0m        \u001b[1;31m# print(grad)\u001b[0m\u001b[1;33m\u001b[0m\u001b[1;33m\u001b[0m\u001b[1;33m\u001b[0m\u001b[0m\n\u001b[0;32m     19\u001b[0m         \u001b[1;31m# Atualização dos pesos\u001b[0m\u001b[1;33m\u001b[0m\u001b[1;33m\u001b[0m\u001b[1;33m\u001b[0m\u001b[0m\n",
      "\u001b[1;32m<ipython-input-24-1992da1258bd>\u001b[0m in \u001b[0;36mgradient\u001b[1;34m(X, y_pred, y_true)\u001b[0m\n\u001b[0;32m      1\u001b[0m \u001b[1;32mdef\u001b[0m \u001b[0mgradient\u001b[0m\u001b[1;33m(\u001b[0m\u001b[0mX\u001b[0m\u001b[1;33m,\u001b[0m \u001b[0my_pred\u001b[0m\u001b[1;33m,\u001b[0m \u001b[0my_true\u001b[0m\u001b[1;33m)\u001b[0m\u001b[1;33m:\u001b[0m\u001b[1;33m\u001b[0m\u001b[1;33m\u001b[0m\u001b[0m\n\u001b[1;32m----> 2\u001b[1;33m     \u001b[1;32mreturn\u001b[0m \u001b[0mnp\u001b[0m\u001b[1;33m.\u001b[0m\u001b[0mdot\u001b[0m\u001b[1;33m(\u001b[0m\u001b[0mX\u001b[0m\u001b[1;33m.\u001b[0m\u001b[0mT\u001b[0m\u001b[1;33m,\u001b[0m \u001b[1;33m(\u001b[0m\u001b[0my_pred\u001b[0m\u001b[1;33m-\u001b[0m\u001b[0my_true\u001b[0m\u001b[1;33m)\u001b[0m\u001b[1;33m)\u001b[0m\u001b[1;33m/\u001b[0m\u001b[0my_pred\u001b[0m\u001b[1;33m.\u001b[0m\u001b[0msize\u001b[0m\u001b[1;33m\u001b[0m\u001b[1;33m\u001b[0m\u001b[0m\n\u001b[0m",
      "\u001b[1;32m<__array_function__ internals>\u001b[0m in \u001b[0;36mdot\u001b[1;34m(*args, **kwargs)\u001b[0m\n",
      "\u001b[1;31mKeyboardInterrupt\u001b[0m: "
     ]
    }
   ],
   "source": [
    "err, weights = fit(x, y, 300000, 0.1, 0)"
   ]
  },
  {
   "cell_type": "code",
   "execution_count": 53,
   "metadata": {},
   "outputs": [],
   "source": [
    "predictions = predict(np.concatenate((np.ones((x.shape[0],1)),x), axis=1),weights)\n",
    "predictions_sig = (sigmoid(predictions)).round()"
   ]
  },
  {
   "cell_type": "code",
   "execution_count": 54,
   "metadata": {},
   "outputs": [
    {
     "data": {
      "text/plain": [
       "1.0"
      ]
     },
     "execution_count": 54,
     "metadata": {},
     "output_type": "execute_result"
    }
   ],
   "source": [
    "(y == predictions_sig).mean()"
   ]
  },
  {
   "cell_type": "code",
   "execution_count": 58,
   "metadata": {},
   "outputs": [
    {
     "data": {
      "text/plain": [
       "<matplotlib.legend.Legend at 0x1b125877c08>"
      ]
     },
     "execution_count": 58,
     "metadata": {},
     "output_type": "execute_result"
    },
    {
     "data": {
      "image/png": "[encoded data removed]",
      "text/plain": [
       "<Figure size 432x288 with 1 Axes>"
      ]
     },
     "metadata": {
      "needs_background": "light"
     },
     "output_type": "display_data"
    }
   ],
   "source": [
    "plt.plot(err, label='Loss')\n",
    "plt.legend(loc='best')\n",
    "#plt.xticks(np.arange(len(err)))"
   ]
  },
  {
   "cell_type": "code",
   "execution_count": 59,
   "metadata": {},
   "outputs": [
    {
     "name": "stdout",
     "output_type": "stream",
     "text": [
      "N=600, row=8, col=8\n"
     ]
    }
   ],
   "source": [
    "N,n_row,n_col,data=read_asc_data('./rectangle600.txt')\n",
    "Xr = data[:, :-1]\n",
    "yr = data[:, -1]"
   ]
  },
  {
   "cell_type": "code",
   "execution_count": 79,
   "metadata": {},
   "outputs": [
    {
     "name": "stdout",
     "output_type": "stream",
     "text": [
      "Epoch: 0 - Loss: 0.6931471805599453\n",
      "Epoch: 50000 - Loss: 0.558750770501383\n",
      "Epoch: 100000 - Loss: 0.5585114874027717\n",
      "Epoch: 150000 - Loss: 0.5584953517670944\n",
      "Epoch: 200000 - Loss: 0.5584940274977658\n",
      "Epoch: 250000 - Loss: 0.5584939088491286\n",
      "Epoch: 300000 - Loss: 0.5584938977660514\n",
      "Epoch: 350000 - Loss: 0.5584938967101886\n",
      "Epoch: 400000 - Loss: 0.558493896608668\n",
      "Epoch: 450000 - Loss: 0.5584938965988648\n",
      "Epoch: 500000 - Loss: 0.5584938965979164\n",
      "Epoch: 550000 - Loss: 0.5584938965978244\n",
      "Epoch: 600000 - Loss: 0.5584938965978156\n",
      "Epoch: 650000 - Loss: 0.5584938965978146\n",
      "Epoch: 700000 - Loss: 0.5584938965978146\n",
      "Epoch: 750000 - Loss: 0.5584938965978146\n",
      "Epoch: 800000 - Loss: 0.5584938965978146\n",
      "Epoch: 850000 - Loss: 0.5584938965978146\n",
      "Epoch: 900000 - Loss: 0.5584938965978146\n",
      "Epoch: 950000 - Loss: 0.5584938965978146\n",
      "Epoch: 1000000 - Loss: 0.5584938965978146\n"
     ]
    }
   ],
   "source": [
    "errr, weightsr = fit(Xr, yr, 1000000, 0.1, 0.1)"
   ]
  },
  {
   "cell_type": "code",
   "execution_count": 67,
   "metadata": {},
   "outputs": [
    {
     "data": {
      "text/plain": [
       "[<matplotlib.lines.Line2D at 0x1b12ace4808>]"
      ]
     },
     "execution_count": 67,
     "metadata": {},
     "output_type": "execute_result"
    },
    {
     "data": {
      "image/png": "[encoded data removed]",
      "text/plain": [
       "<Figure size 432x288 with 1 Axes>"
      ]
     },
     "metadata": {
      "needs_background": "light"
     },
     "output_type": "display_data"
    }
   ],
   "source": [
    "plt.plot(errr)"
   ]
  },
  {
   "cell_type": "code",
   "execution_count": 68,
   "metadata": {},
   "outputs": [],
   "source": [
    "predictions = predict(np.concatenate((np.ones((Xr.shape[0],1)),Xr), axis=1),weightsr)\n",
    "predictions_sig = (sigmoid(predictions)).round()"
   ]
  },
  {
   "cell_type": "code",
   "execution_count": 70,
   "metadata": {},
   "outputs": [
    {
     "data": {
      "text/plain": [
       "0.7466666666666667"
      ]
     },
     "execution_count": 70,
     "metadata": {},
     "output_type": "execute_result"
    }
   ],
   "source": [
    "(yr == predictions_sig).mean()"
   ]
  },
  {
   "cell_type": "code",
   "execution_count": 132,
   "metadata": {},
   "outputs": [],
   "source": [
    "def confusion_matrix(yr,yp):\n",
    "    matrix = np.zeros((2,2))\n",
    "    for yr, yp in zip(yr, yp):\n",
    "        if yr == True:\n",
    "            if yp == True:\n",
    "                matrix[0,0] += 1\n",
    "            else:\n",
    "                matrix[1,0] += 1\n",
    "        else:\n",
    "            if yp == True:\n",
    "                matrix[0,1] += 1\n",
    "            else:\n",
    "                matrix[1,1] += 1\n",
    "    print(matrix)\n",
    "    print(f'Recall: {matrix[0,0]/(matrix[0,0]+matrix[1,0])}\\nAccuracy: {(matrix[0,0]+matrix[1,1])/np.sum(matrix)}\\nPrecision: {matrix[0,0]/(matrix[0,0]+matrix[0,1])}')\n",
    "            "
   ]
  },
  {
   "cell_type": "code",
   "execution_count": 75,
   "metadata": {},
   "outputs": [],
   "source": [
    "cmatrix = confusion_matrix(yr, predictions_sig)"
   ]
  },
  {
   "cell_type": "code",
   "execution_count": 76,
   "metadata": {},
   "outputs": [
    {
     "data": {
      "text/plain": [
       "array([[173.,  67.],\n",
       "       [ 85., 275.]])"
      ]
     },
     "execution_count": 76,
     "metadata": {},
     "output_type": "execute_result"
    }
   ],
   "source": [
    "cmatrix # LR 0.1 / 300 000 ITER"
   ]
  },
  {
   "cell_type": "markdown",
   "metadata": {},
   "source": [
    "# line1500.txt"
   ]
  },
  {
   "cell_type": "code",
   "execution_count": 112,
   "metadata": {},
   "outputs": [
    {
     "name": "stdout",
     "output_type": "stream",
     "text": [
      "N=1500, row=8, col=8\n"
     ]
    }
   ],
   "source": [
    "N,n_row,n_col,data=read_asc_data('line1500.txt')\n",
    "x_train = data[750:, :-1]\n",
    "y_train = data[750:, -1]\n",
    "x_test = data[:750, :-1]\n",
    "y_test = data[:750, -1]"
   ]
  },
  {
   "cell_type": "code",
   "execution_count": 135,
   "metadata": {},
   "outputs": [
    {
     "name": "stdout",
     "output_type": "stream",
     "text": [
      "Epoch: 0 - Loss: 0.6931471805599454\n",
      "Epoch: 25000 - Loss: 0.6722191576028033\n",
      "Epoch: 50000 - Loss: 0.6722177315071157\n",
      "Epoch: 75000 - Loss: 0.6722177289040565\n",
      "Epoch: 100000 - Loss: 0.6722177288986538\n"
     ]
    }
   ],
   "source": [
    "err,weights = fit(x_train, y_train, 100000, 0.1, 0.1, 25000)"
   ]
  },
  {
   "cell_type": "code",
   "execution_count": 122,
   "metadata": {},
   "outputs": [],
   "source": [
    "preds = predict(np.concatenate((np.ones((x_test.shape[0],1)),x_test), axis=1), weights)\n",
    "preds_ = sigmoid(preds).round()"
   ]
  },
  {
   "cell_type": "code",
   "execution_count": 123,
   "metadata": {},
   "outputs": [
    {
     "data": {
      "text/plain": [
       "0.512"
      ]
     },
     "execution_count": 123,
     "metadata": {},
     "output_type": "execute_result"
    }
   ],
   "source": [
    "(preds_ == y_test).mean()"
   ]
  },
  {
   "cell_type": "code",
   "execution_count": 133,
   "metadata": {},
   "outputs": [
    {
     "name": "stdout",
     "output_type": "stream",
     "text": [
      "[[160. 159.]\n",
      " [207. 224.]]\n",
      "Recall: 0.4359673024523161\n",
      "Accuracy: 0.512\n",
      "Precision: 0.5015673981191222\n"
     ]
    }
   ],
   "source": [
    "confusion_matrix(y_test, preds_)"
   ]
  }
 ],
 "metadata": {
  "kernelspec": {
   "display_name": "Python 3",
   "language": "python",
   "name": "python3"
  },
  "language_info": {
   "codemirror_mode": {
    "name": "ipython",
    "version": 3
   },
   "file_extension": ".py",
   "mimetype": "text/x-python",
   "name": "python",
   "nbconvert_exporter": "python",
   "pygments_lexer": "ipython3",
   "version": "3.7.7"
  }
 },
 "nbformat": 4,
 "nbformat_minor": 4
}
