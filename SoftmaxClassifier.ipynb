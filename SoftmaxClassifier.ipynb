{
 "cells": [
  {
   "cell_type": "markdown",
   "metadata": {},
   "source": [
    "# SOFTMAX CLASSIFIER FROM SCRATCH\n",
    "### Categorical crossentropy as loss function and Gradient descent as optimizer"
   ]
  },
  {
   "cell_type": "code",
   "execution_count": 1,
   "metadata": {},
   "outputs": [
    {
     "name": "stderr",
     "output_type": "stream",
     "text": [
      "Using TensorFlow backend.\n"
     ]
    }
   ],
   "source": [
    "import matplotlib.pyplot as plt\n",
    "import numpy as np\n",
    "from sklearn import datasets\n",
    "from sklearn.model_selection import train_test_split\n",
    "from sklearn.preprocessing import OneHotEncoder\n",
    "from keras.utils import to_categorical"
   ]
  },
  {
   "cell_type": "code",
   "execution_count": 2,
   "metadata": {},
   "outputs": [],
   "source": [
    "def read_asc_data(filename):    \n",
    "    f= open(filename,'r') \n",
    "    tmp_str=f.readline()\n",
    "    tmp_arr=tmp_str[:-1].split(' ')\n",
    "    N=int(tmp_arr[0]);n_row=int(tmp_arr[1]);n_col=int(tmp_arr[2])\n",
    "    print(\"N=%d, row=%d, col=%d\" %(N,n_row,n_col))\n",
    "    data=np.zeros([N,n_row*n_col+1])\n",
    "    for n in range(N):\n",
    "        tmp_str=f.readline()\n",
    "        tmp_arr=tmp_str[:-1].split(' ')       \n",
    "        for i in range(n_row*n_col+1):\n",
    "            data[n][i]=int(tmp_arr[i])\n",
    "    f.close() \n",
    "    return N,n_row,n_col,data"
   ]
  },
  {
   "cell_type": "code",
   "execution_count": 2,
   "metadata": {},
   "outputs": [],
   "source": [
    "iris = datasets.load_iris()\n",
    "X = iris.data[:,[0,3]]\n",
    "y = iris.target"
   ]
  },
  {
   "cell_type": "code",
   "execution_count": 3,
   "metadata": {},
   "outputs": [
    {
     "data": {
      "text/plain": [
       "(150, 2)"
      ]
     },
     "execution_count": 3,
     "metadata": {},
     "output_type": "execute_result"
    }
   ],
   "source": [
    "X.shape"
   ]
  },
  {
   "cell_type": "code",
   "execution_count": 4,
   "metadata": {},
   "outputs": [
    {
     "data": {
      "image/png": "[encoded data removed]",
      "text/plain": [
       "<Figure size 720x432 with 1 Axes>"
      ]
     },
     "metadata": {
      "needs_background": "light"
     },
     "output_type": "display_data"
    }
   ],
   "source": [
    "plt.figure(figsize=(10,6))\n",
    "plt.scatter(X[y==0][:,0],X[y==0][:,1], color='red', label='0')\n",
    "plt.scatter(X[y==1][:,0],X[y==1][:,1], color='blue', label='1')\n",
    "plt.scatter(X[y==2][:,0],X[y==2][:,1], color='green', label='2')\n",
    "plt.legend(loc='best')\n",
    "plt.show()"
   ]
  },
  {
   "cell_type": "code",
   "execution_count": 5,
   "metadata": {},
   "outputs": [],
   "source": [
    "x_train, x_test, y_train, y_test = train_test_split(X,y, test_size=0.5, random_state=24)"
   ]
  },
  {
   "cell_type": "code",
   "execution_count": 6,
   "metadata": {},
   "outputs": [
    {
     "data": {
      "text/plain": [
       "0.96"
      ]
     },
     "execution_count": 6,
     "metadata": {},
     "output_type": "execute_result"
    }
   ],
   "source": [
    "# baseline\n",
    "from sklearn.linear_model import LogisticRegression\n",
    "mcl = LogisticRegression(multi_class='multinomial')\n",
    "mcl.fit(X,y)\n",
    "mcl.score(x_test, y_test)"
   ]
  },
  {
   "cell_type": "code",
   "execution_count": 27,
   "metadata": {},
   "outputs": [],
   "source": [
    "class SoftmaxClassifier():\n",
    "    def __init__(self, lr, epochs, verbose=False):\n",
    "        self.lr = lr\n",
    "        self.epochs = epochs\n",
    "        self.verbose = verbose\n",
    "    \n",
    "    def __add_intercept(self, X):\n",
    "        intercept = np.ones((X.shape[0],1))\n",
    "        return np.concatenate((intercept, X),axis=1)\n",
    "    \n",
    "    def __calc_probs(self, X):\n",
    "        #print(f'X Shape: {X.shape} | W Shape: {(self.w).shape}')\n",
    "        z  = np.dot(X,self.w)\n",
    "        probs = np.array([np.exp(x)/np.sum(np.exp(x)) for x in z])\n",
    "        return probs\n",
    "        \n",
    "    def __loss(self, y, probs):\n",
    "        return (-np.sum(y * np.log(probs)))\n",
    "    \n",
    "    def fit(self, X, y):\n",
    "        X = self.__add_intercept(X)\n",
    "        ye = to_categorical(y)\n",
    "        self.w = np.random.rand(X.shape[1],len(set(y)))\n",
    "        loss_arr = []\n",
    "        #print(f'X shape: {X.shape} | W shape: {w.shape}')\n",
    "        \n",
    "        for i in range(1,self.epochs+1):\n",
    "            # Cálculo probabilidades\n",
    "            probs = self.__calc_probs(X)\n",
    "            \n",
    "            # Cálculo Loss - categorical_crossentropy\n",
    "            loss = self.__loss(ye, probs)\n",
    "            \n",
    "            loss_arr.append(loss)\n",
    "            \n",
    "            # Cálculo gradiente\n",
    "            #grad = -(np.dot(X.T,(ye - probs)))/X.shape[0]\n",
    "            grad = (np.dot(X.T,(probs - ye)))/X.shape[0]\n",
    "            \n",
    "            #grad = (np.dot((y-np.argmax(probs,axis=1)),X))/X.shape[0]\n",
    "            #grad = (np.dot(np.sum(ye-probs,axis=1),X))/X.shape[0] # Está mal calculado\n",
    "           \n",
    "            #print(self.w[:2])\n",
    "            self.w -= self.lr*grad\n",
    "            #print(self.w[:2])\n",
    "            \n",
    "            if self.verbose == True and i % (self.epochs/10) == 0 and i != 0:\n",
    "                print(f'Epoch: {i} | Loss: {loss}')\n",
    "        \n",
    "        return loss_arr\n",
    "    #def predict(self, X):\n",
    "    #    if self.fit_intercept:\n",
    "    #        X = self.__add_intercept(X)\n",
    "            \n",
    "    #    return self.__sigmoid(np.dot(X, self.theta))\n",
    "    \n",
    "    def predict_probs(self, X):\n",
    "        return self.__calc_probs(self.__add_intercept(X))"
   ]
  },
  {
   "cell_type": "code",
   "execution_count": 28,
   "metadata": {},
   "outputs": [],
   "source": [
    "sc = SoftmaxClassifier(lr=0.1, epochs=10000, verbose=True)"
   ]
  },
  {
   "cell_type": "code",
   "execution_count": 29,
   "metadata": {},
   "outputs": [
    {
     "name": "stdout",
     "output_type": "stream",
     "text": [
      "Epoch: 1000 | Loss: 21.692951268618216\n",
      "Epoch: 2000 | Loss: 17.15492952093298\n",
      "Epoch: 3000 | Loss: 15.10784918621272\n",
      "Epoch: 4000 | Loss: 13.881870046353143\n",
      "Epoch: 5000 | Loss: 13.043077249681744\n",
      "Epoch: 6000 | Loss: 12.424482750711768\n",
      "Epoch: 7000 | Loss: 11.946044244194159\n",
      "Epoch: 8000 | Loss: 11.56359981474979\n",
      "Epoch: 9000 | Loss: 11.250333019541017\n",
      "Epoch: 10000 | Loss: 10.988812325708032\n"
     ]
    }
   ],
   "source": [
    "loss = sc.fit(x_train, y_train)"
   ]
  },
  {
   "cell_type": "code",
   "execution_count": 30,
   "metadata": {},
   "outputs": [],
   "source": [
    "preds = sc.predict_probs(x_test)"
   ]
  },
  {
   "cell_type": "code",
   "execution_count": 31,
   "metadata": {},
   "outputs": [
    {
     "data": {
      "text/plain": [
       "0.96"
      ]
     },
     "execution_count": 31,
     "metadata": {},
     "output_type": "execute_result"
    }
   ],
   "source": [
    "(np.argmax(preds,axis=1) == y_test).mean()"
   ]
  },
  {
   "cell_type": "code",
   "execution_count": 32,
   "metadata": {},
   "outputs": [
    {
     "data": {
      "text/plain": [
       "[<matplotlib.lines.Line2D at 0x17730d5b348>]"
      ]
     },
     "execution_count": 32,
     "metadata": {},
     "output_type": "execute_result"
    },
    {
     "data": {
      "image/png": "[encoded data removed]",
      "text/plain": [
       "<Figure size 432x288 with 1 Axes>"
      ]
     },
     "metadata": {
      "needs_background": "light"
     },
     "output_type": "display_data"
    }
   ],
   "source": [
    "plt.plot(loss)"
   ]
  },
  {
   "cell_type": "code",
   "execution_count": 43,
   "metadata": {},
   "outputs": [
    {
     "name": "stdout",
     "output_type": "stream",
     "text": [
      "N=600, row=8, col=8\n"
     ]
    }
   ],
   "source": [
    "N,n_row,n_col,data=read_asc_data('line600.txt')\n",
    "x_train, x_test, y_train, y_test = train_test_split(data[:,:-1], data[:,-1], test_size=0.5, random_state=24)"
   ]
  },
  {
   "cell_type": "code",
   "execution_count": 59,
   "metadata": {},
   "outputs": [],
   "source": [
    "sc600 = SoftmaxClassifier(0.05, 10000, verbose=True)"
   ]
  },
  {
   "cell_type": "code",
   "execution_count": 60,
   "metadata": {},
   "outputs": [
    {
     "name": "stdout",
     "output_type": "stream",
     "text": [
      "Epoch: 1000 | Loss: 191.92812652525961\n",
      "Epoch: 2000 | Loss: 189.75324535610648\n",
      "Epoch: 3000 | Loss: 188.82754651604046\n",
      "Epoch: 4000 | Loss: 188.28624608874412\n",
      "Epoch: 5000 | Loss: 187.9208250994671\n",
      "Epoch: 6000 | Loss: 187.6495208536382\n",
      "Epoch: 7000 | Loss: 187.4342343800536\n",
      "Epoch: 8000 | Loss: 187.25520268633886\n",
      "Epoch: 9000 | Loss: 187.10131388906098\n",
      "Epoch: 10000 | Loss: 186.96588643080958\n"
     ]
    }
   ],
   "source": [
    "sc600.fit(x_train,y_train)"
   ]
  },
  {
   "cell_type": "code",
   "execution_count": 53,
   "metadata": {},
   "outputs": [],
   "source": [
    "predictions = sc600.predict_probs(x_test)"
   ]
  },
  {
   "cell_type": "code",
   "execution_count": 54,
   "metadata": {},
   "outputs": [
    {
     "data": {
      "text/plain": [
       "0.74"
      ]
     },
     "execution_count": 54,
     "metadata": {},
     "output_type": "execute_result"
    }
   ],
   "source": [
    "(np.argmax(predictions,axis=1) == y_test).mean()"
   ]
  },
  {
   "cell_type": "code",
   "execution_count": 61,
   "metadata": {},
   "outputs": [
    {
     "name": "stdout",
     "output_type": "stream",
     "text": [
      "N=600, row=8, col=8\n"
     ]
    }
   ],
   "source": [
    "N,n_row,n_col,data=read_asc_data('./rectangle600.txt')\n",
    "x_train, x_test, y_train, y_test = train_test_split(data[:,:-1], data[:,-1], test_size=0.5, random_state=24)"
   ]
  },
  {
   "cell_type": "code",
   "execution_count": 71,
   "metadata": {},
   "outputs": [],
   "source": [
    "sc600r = SoftmaxClassifier(0.5, 100000, verbose=True)"
   ]
  },
  {
   "cell_type": "code",
   "execution_count": 72,
   "metadata": {},
   "outputs": [
    {
     "name": "stdout",
     "output_type": "stream",
     "text": [
      "Epoch: 10000 | Loss: 154.13459258720673\n",
      "Epoch: 20000 | Loss: 153.4214408191533\n",
      "Epoch: 30000 | Loss: 153.36223579790862\n",
      "Epoch: 40000 | Loss: 153.3528892928694\n",
      "Epoch: 50000 | Loss: 153.34952096911485\n",
      "Epoch: 60000 | Loss: 153.34746701403884\n",
      "Epoch: 70000 | Loss: 153.34597302569057\n",
      "Epoch: 80000 | Loss: 153.34481876568321\n",
      "Epoch: 90000 | Loss: 153.34389821928607\n",
      "Epoch: 100000 | Loss: 153.34314718858698\n"
     ]
    }
   ],
   "source": [
    "loss = sc600r.fit(x_train, y_train)"
   ]
  },
  {
   "cell_type": "code",
   "execution_count": 87,
   "metadata": {},
   "outputs": [],
   "source": [
    "predsr = sc600r.predict_probs(x_train)"
   ]
  },
  {
   "cell_type": "code",
   "execution_count": 88,
   "metadata": {},
   "outputs": [
    {
     "data": {
      "text/plain": [
       "0.73"
      ]
     },
     "execution_count": 88,
     "metadata": {},
     "output_type": "execute_result"
    }
   ],
   "source": [
    "(np.argmax(predsr, axis=1) == y_train).mean()"
   ]
  },
  {
   "cell_type": "code",
   "execution_count": 89,
   "metadata": {},
   "outputs": [],
   "source": [
    "def confusion_matrix(yr,yp):\n",
    "    matrix = np.zeros((2,2))\n",
    "    for yr, yp in zip(yr, yp):\n",
    "        if yr == True:\n",
    "            if yp == True:\n",
    "                matrix[0,0] += 1\n",
    "            else:\n",
    "                matrix[1,0] += 1\n",
    "        else:\n",
    "            if yp == True:\n",
    "                matrix[0,1] += 1\n",
    "            else:\n",
    "                matrix[1,1] += 1\n",
    "    print(matrix)\n",
    "    print(f'Recall: {matrix[0,0]/(matrix[0,0]+matrix[1,0])}\\nAccuracy: {(matrix[0,0]+matrix[1,1])/np.sum(matrix)}\\nPrecision: {matrix[0,0]/(matrix[0,0]+matrix[0,1])}')\n",
    "            "
   ]
  },
  {
   "cell_type": "code",
   "execution_count": 91,
   "metadata": {},
   "outputs": [
    {
     "name": "stdout",
     "output_type": "stream",
     "text": [
      "[[ 95.  49.]\n",
      " [ 32. 124.]]\n",
      "Recall: 0.7480314960629921\n",
      "Accuracy: 0.73\n",
      "Precision: 0.6597222222222222\n"
     ]
    }
   ],
   "source": [
    "confusion_matrix(y_train, np.argmax(predsr,axis=1))"
   ]
  },
  {
   "cell_type": "code",
   "execution_count": 79,
   "metadata": {},
   "outputs": [
    {
     "data": {
      "text/plain": [
       "LogisticRegression(C=1.0, class_weight=None, dual=False, fit_intercept=True,\n",
       "                   intercept_scaling=1, l1_ratio=None, max_iter=100,\n",
       "                   multi_class='multinomial', n_jobs=None, penalty='l2',\n",
       "                   random_state=None, solver='lbfgs', tol=0.0001, verbose=0,\n",
       "                   warm_start=False)"
      ]
     },
     "execution_count": 79,
     "metadata": {},
     "output_type": "execute_result"
    }
   ],
   "source": [
    "from sklearn.linear_model import LogisticRegression\n",
    "mcl = LogisticRegression(multi_class='multinomial')\n",
    "mcl.fit(x_train,y_train)"
   ]
  },
  {
   "cell_type": "code",
   "execution_count": 81,
   "metadata": {},
   "outputs": [
    {
     "data": {
      "text/plain": [
       "0.7"
      ]
     },
     "execution_count": 81,
     "metadata": {},
     "output_type": "execute_result"
    }
   ],
   "source": [
    "mcl.score(x_test,y_test)"
   ]
  },
  {
   "cell_type": "code",
   "execution_count": 84,
   "metadata": {},
   "outputs": [
    {
     "data": {
      "text/plain": [
       "array([0., 1.])"
      ]
     },
     "execution_count": 84,
     "metadata": {},
     "output_type": "execute_result"
    }
   ],
   "source": [
    "mcl.classes_"
   ]
  }
 ],
 "metadata": {
  "kernelspec": {
   "display_name": "Python 3",
   "language": "python",
   "name": "python3"
  },
  "language_info": {
   "codemirror_mode": {
    "name": "ipython",
    "version": 3
   },
   "file_extension": ".py",
   "mimetype": "text/x-python",
   "name": "python",
   "nbconvert_exporter": "python",
   "pygments_lexer": "ipython3",
   "version": "3.7.7"
  }
 },
 "nbformat": 4,
 "nbformat_minor": 4
}
