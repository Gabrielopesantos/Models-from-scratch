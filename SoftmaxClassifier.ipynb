{
 "cells": [
  {
   "cell_type": "markdown",
   "metadata": {},
   "source": [
    "# SOFTMAX CLASSIFIER FROM SCRATCH\n",
    "### Categorical crossentropy as loss function and Gradient descent as optimizer"
   ]
  },
  {
   "cell_type": "code",
   "execution_count": 86,
   "metadata": {},
   "outputs": [],
   "source": [
    "import matplotlib.pyplot as plt\n",
    "import numpy as np\n",
    "from sklearn import datasets\n",
    "from sklearn.model_selection import train_test_split\n",
    "from sklearn.preprocessing import OneHotEncoder\n",
    "from keras.utils import to_categorical"
   ]
  },
  {
   "cell_type": "code",
   "execution_count": 87,
   "metadata": {},
   "outputs": [],
   "source": [
    "iris = datasets.load_iris()\n",
    "X = iris.data[:,[0,3]]\n",
    "y = iris.target"
   ]
  },
  {
   "cell_type": "code",
   "execution_count": 88,
   "metadata": {},
   "outputs": [],
   "source": [
    "# shuffling data\n",
    "\n",
    "arr = np.concatenate((X,y.reshape(150, 1)), axis=1)\n",
    "np.random.shuffle(arr)\n",
    "X = arr[:, :-1]\n",
    "y = arr[:, -1]"
   ]
  },
  {
   "cell_type": "code",
   "execution_count": 89,
   "metadata": {},
   "outputs": [
    {
     "data": {
      "image/png": "[encoded data removed]",
      "text/plain": [
       "<Figure size 720x432 with 1 Axes>"
      ]
     },
     "metadata": {
      "needs_background": "light"
     },
     "output_type": "display_data"
    }
   ],
   "source": [
    "plt.figure(figsize=(10,6))\n",
    "plt.scatter(X[y==0][:,0],X[y==0][:,1], color='red', label='0')\n",
    "plt.scatter(X[y==1][:,0],X[y==1][:,1], color='blue', label='1')\n",
    "plt.scatter(X[y==2][:,0],X[y==2][:,1], color='green', label='2')\n",
    "plt.legend(loc='best')\n",
    "plt.show()"
   ]
  },
  {
   "cell_type": "code",
   "execution_count": 90,
   "metadata": {},
   "outputs": [],
   "source": [
    "x_train, x_test, y_train, y_test = train_test_split(X,y, test_size=0.5, random_state=24)"
   ]
  },
  {
   "cell_type": "code",
   "execution_count": 91,
   "metadata": {},
   "outputs": [
    {
     "data": {
      "text/plain": [
       "0.9333333333333333"
      ]
     },
     "execution_count": 91,
     "metadata": {},
     "output_type": "execute_result"
    }
   ],
   "source": [
    "# baseline\n",
    "from sklearn.linear_model import LogisticRegression\n",
    "mcl = LogisticRegression(multi_class='multinomial')\n",
    "mcl.fit(x_train ,y_train)\n",
    "mcl.score(x_test, y_test)"
   ]
  },
  {
   "cell_type": "code",
   "execution_count": 92,
   "metadata": {},
   "outputs": [],
   "source": [
    "class SoftmaxClassifier():\n",
    "    def __init__(self, lr, epochs, verbose=False):\n",
    "        self.lr = lr\n",
    "        self.epochs = epochs\n",
    "        self.verbose = verbose\n",
    "    \n",
    "    def __add_intercept(self, X):\n",
    "        intercept = np.ones((X.shape[0],1))\n",
    "        return np.concatenate((intercept, X),axis=1)\n",
    "    \n",
    "#     def __calc_acc(y_hat, y):\n",
    "#         print(y_hat)\n",
    "#         return ((y_hat.round() == y).mean() * 100).round(2)\n",
    "    \n",
    "    def __calc_probs(self, X):\n",
    "        z  = np.dot(X,self.w)\n",
    "        return np.array([np.exp(x)/np.sum(np.exp(x)) for x in z])\n",
    "        \n",
    "    def __loss(self, y, probs):\n",
    "        return (-np.sum(y * np.log(probs)))\n",
    "    \n",
    "    def fit(self, X, y):\n",
    "        X = self.__add_intercept(X)\n",
    "        ye = to_categorical(y)\n",
    "        self.w = np.random.rand(X.shape[1],len(set(y)))\n",
    "        loss_arr = []\n",
    "        \n",
    "        \n",
    "        for i in range(1,self.epochs+1):\n",
    "            probs = self.__calc_probs(X)\n",
    "            \n",
    "            loss = self.__loss(ye, probs)\n",
    "            \n",
    "            loss_arr.append(loss)\n",
    "            \n",
    "            grad = (np.dot(X.T,(probs - ye)))/X.shape[0]\n",
    "            \n",
    "            self.w -= self.lr*grad\n",
    "\n",
    "            if self.verbose == True and i % (self.epochs/10) == 0 and i != 0:\n",
    "                print(f'Epoch: {i} | Loss: {loss}')\n",
    "        \n",
    "        return loss_arr\n",
    "    \n",
    "    def predict_probs(self, X):\n",
    "        return self.__calc_probs(self.__add_intercept(X))"
   ]
  },
  {
   "cell_type": "code",
   "execution_count": 93,
   "metadata": {},
   "outputs": [],
   "source": [
    "## 100 iterations like baseline model\n",
    "sc = SoftmaxClassifier(lr=0.1, epochs=100, verbose=True)"
   ]
  },
  {
   "cell_type": "code",
   "execution_count": 94,
   "metadata": {},
   "outputs": [
    {
     "name": "stdout",
     "output_type": "stream",
     "text": [
      "Epoch: 10 | Loss: 69.73405391776987\n",
      "Epoch: 20 | Loss: 64.08952517013662\n",
      "Epoch: 30 | Loss: 59.63687202249652\n",
      "Epoch: 40 | Loss: 56.06110262375806\n",
      "Epoch: 50 | Loss: 53.1361279059586\n",
      "Epoch: 60 | Loss: 50.70115422825545\n",
      "Epoch: 70 | Loss: 48.641287497957634\n",
      "Epoch: 80 | Loss: 46.87347161495242\n",
      "Epoch: 90 | Loss: 45.336776432992025\n",
      "Epoch: 100 | Loss: 43.985794977277095\n"
     ]
    }
   ],
   "source": [
    "loss = sc.fit(x_train, y_train)"
   ]
  },
  {
   "cell_type": "code",
   "execution_count": 95,
   "metadata": {},
   "outputs": [],
   "source": [
    "preds = sc.predict_probs(x_test)"
   ]
  },
  {
   "cell_type": "code",
   "execution_count": 96,
   "metadata": {},
   "outputs": [
    {
     "data": {
      "text/plain": [
       "0.92"
      ]
     },
     "execution_count": 96,
     "metadata": {},
     "output_type": "execute_result"
    }
   ],
   "source": [
    "(np.argmax(preds, axis=1) == y_test).mean()"
   ]
  },
  {
   "cell_type": "code",
   "execution_count": 97,
   "metadata": {},
   "outputs": [
    {
     "data": {
      "text/plain": [
       "Text(0.5, 1.0, 'Loss with 100 iterations')"
      ]
     },
     "execution_count": 97,
     "metadata": {},
     "output_type": "execute_result"
    },
    {
     "data": {
      "image/png": "[encoded data removed]",
      "text/plain": [
       "<Figure size 432x288 with 1 Axes>"
      ]
     },
     "metadata": {
      "needs_background": "light"
     },
     "output_type": "display_data"
    }
   ],
   "source": [
    "plt.plot(loss)\n",
    "plt.title('Loss with 100 iterations')"
   ]
  },
  {
   "cell_type": "code",
   "execution_count": 98,
   "metadata": {},
   "outputs": [
    {
     "name": "stdout",
     "output_type": "stream",
     "text": [
      "Epoch: 100 | Loss: 45.429408551358065\n",
      "Epoch: 200 | Loss: 36.47560579875916\n",
      "Epoch: 300 | Loss: 32.0684250152388\n",
      "Epoch: 400 | Loss: 29.23780386626546\n",
      "Epoch: 500 | Loss: 27.18891577112984\n",
      "Epoch: 600 | Loss: 25.605124592543604\n",
      "Epoch: 700 | Loss: 24.32922123058276\n",
      "Epoch: 800 | Loss: 23.271560407346705\n",
      "Epoch: 900 | Loss: 22.37603871422985\n",
      "Epoch: 1000 | Loss: 21.6051678048451\n"
     ]
    }
   ],
   "source": [
    "## 1000 iterations\n",
    "sc = SoftmaxClassifier(lr=0.1, epochs=1000, verbose=True)\n",
    "loss = sc.fit(x_train, y_train)"
   ]
  },
  {
   "cell_type": "code",
   "execution_count": 99,
   "metadata": {},
   "outputs": [
    {
     "name": "stdout",
     "output_type": "stream",
     "text": [
      "0.96\n"
     ]
    }
   ],
   "source": [
    "preds = sc.predict_probs(x_test)\n",
    "print((np.argmax(preds, axis=1) == y_test).mean())"
   ]
  },
  {
   "cell_type": "code",
   "execution_count": 100,
   "metadata": {},
   "outputs": [
    {
     "data": {
      "text/plain": [
       "Text(0.5, 1.0, 'Loss with 1000 iterations')"
      ]
     },
     "execution_count": 100,
     "metadata": {},
     "output_type": "execute_result"
    },
    {
     "data": {
      "image/png": "[encoded data removed]",
      "text/plain": [
       "<Figure size 432x288 with 1 Axes>"
      ]
     },
     "metadata": {
      "needs_background": "light"
     },
     "output_type": "display_data"
    }
   ],
   "source": [
    "plt.plot(loss)\n",
    "plt.title('Loss with 1000 iterations')"
   ]
  }
 ],
 "metadata": {
  "kernelspec": {
   "display_name": "Python 3",
   "language": "python",
   "name": "python3"
  },
  "language_info": {
   "codemirror_mode": {
    "name": "ipython",
    "version": 3
   },
   "file_extension": ".py",
   "mimetype": "text/x-python",
   "name": "python",
   "nbconvert_exporter": "python",
   "pygments_lexer": "ipython3",
   "version": "3.7.7"
  },
  "toc": {
   "base_numbering": 1,
   "nav_menu": {},
   "number_sections": true,
   "sideBar": true,
   "skip_h1_title": false,
   "title_cell": "Table of Contents",
   "title_sidebar": "Contents",
   "toc_cell": false,
   "toc_position": {},
   "toc_section_display": true,
   "toc_window_display": false
  },
  "varInspector": {
   "cols": {
    "lenName": 16,
    "lenType": 16,
    "lenVar": 40
   },
   "kernels_config": {
    "python": {
     "delete_cmd_postfix": "",
     "delete_cmd_prefix": "del ",
     "library": "var_list.py",
     "varRefreshCmd": "print(var_dic_list())"
    },
    "r": {
     "delete_cmd_postfix": ") ",
     "delete_cmd_prefix": "rm(",
     "library": "var_list.r",
     "varRefreshCmd": "cat(var_dic_list()) "
    }
   },
   "types_to_exclude": [
    "module",
    "function",
    "builtin_function_or_method",
    "instance",
    "_Feature"
   ],
   "window_display": false
  }
 },
 "nbformat": 4,
 "nbformat_minor": 4
}
