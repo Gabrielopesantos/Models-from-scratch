{
 "metadata": {
  "language_info": {
   "codemirror_mode": {
    "name": "ipython",
    "version": 3
   },
   "file_extension": ".py",
   "mimetype": "text/x-python",
   "name": "python",
   "nbconvert_exporter": "python",
   "pygments_lexer": "ipython3",
   "version": "3.8.3-final"
  },
  "orig_nbformat": 2,
  "kernelspec": {
   "name": "python_defaultSpec_1599043978807",
   "display_name": "Python 3.8.3 64-bit"
  }
 },
 "nbformat": 4,
 "nbformat_minor": 2,
 "cells": [
  {
   "cell_type": "code",
   "execution_count": 1,
   "metadata": {},
   "outputs": [],
   "source": [
    "import numpy as np\n",
    "import keras.datasets\n",
    "\n",
    "from scratchlib import scratchlib as sl"
   ]
  },
  {
   "cell_type": "code",
   "execution_count": 2,
   "metadata": {},
   "outputs": [],
   "source": [
    "# get data\n",
    "(x_train, y_train), (x_test, y_test) = keras.datasets.mnist.load_data()\n",
    "img_size = 28*28\n",
    "# preprocess data\n",
    "x_train, y_train = x_train.reshape(-1, img_size) / 255.0, y_train.flatten()\n",
    "x_test, y_test = x_test.reshape(-1, img_size) / 255.0, y_test.flatten()"
   ]
  },
  {
   "cell_type": "code",
   "execution_count": 3,
   "metadata": {},
   "outputs": [],
   "source": [
    "    model_layers = [sl.LinearLayer(img_size, 32),\n",
    "                    sl.ReLU(),\n",
    "                    sl.LinearLayer(32, 64),\n",
    "                    sl.ReLU(),\n",
    "                    sl.LinearLayer(64, 10)]"
   ]
  },
  {
   "cell_type": "code",
   "execution_count": 4,
   "metadata": {
    "tags": []
   },
   "outputs": [
    {
     "output_type": "stream",
     "name": "stdout",
     "text": "Accuracy 89.98 | Loss 0.3328\nAccuracy 92.25 | Loss 0.2580\nAccuracy 93.28 | Loss 0.2237\nAccuracy 93.61 | Loss 0.2090\nAccuracy 94.03 | Loss 0.1931\n"
    }
   ],
   "source": [
    "    # epochs=5, batch_size=128, lr=1e-3\n",
    "    myModel = sl.Model(model_layers)\n",
    "    for e in range(5):\n",
    "        batch = 128\n",
    "        for it, i in enumerate(range(0, x_train.shape[0], batch)):\n",
    "            if i + batch > x_train.shape[0]:\n",
    "                batch = x_train.shape[0] - i\n",
    "            logits = myModel.forward(x_train[i:i+batch], y_train[i:i+batch])\n",
    "            myModel.backward()\n",
    "            myModel.update_weights(1e-3)\n",
    "        myModel.evaluate(x_test, y_test)"
   ]
  },
  {
   "cell_type": "code",
   "execution_count": null,
   "metadata": {},
   "outputs": [],
   "source": []
  }
 ]
}